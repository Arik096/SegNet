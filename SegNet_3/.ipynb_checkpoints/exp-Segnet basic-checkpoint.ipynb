{
 "cells": [
  {
   "cell_type": "code",
   "execution_count": 1,
   "metadata": {},
   "outputs": [
    {
     "name": "stderr",
     "output_type": "stream",
     "text": [
      "Using TensorFlow backend.\n"
     ]
    }
   ],
   "source": [
    "import keras as k\n"
   ]
  },
  {
   "cell_type": "code",
   "execution_count": 7,
   "metadata": {},
   "outputs": [],
   "source": [
    "from keras.models import Sequential\n",
    "from keras.layers.core import Activation,Reshape,Permute\n",
    "from keras.layers.convolutional import Conv2D,MaxPooling2D,UpSampling2D,ZeroPadding2D\n",
    "from keras.layers.normalization import BatchNormalization"
   ]
  },
  {
   "cell_type": "code",
   "execution_count": null,
   "metadata": {},
   "outputs": [],
   "source": [
    "h=360\n",
    "w=480\n",
    "ks=3\n",
    "pad=1\n",
    "encoding_layers=[ZeroPadding2D(padding=(pad,pad)),Conv2D(64,kernel_size=3,padding='valid',input_shape=(h,w),name='conv1'),BatchNormalization(name='conv1_bn'),Activation('relu',name='relu1'),MaxPooling2D(strides=2,name='pool1'),\n",
    "                 ZeroPadding2D(padding=(pad,pad)),Conv2D(128,kernel_size=3,padding='valid',name='conv2'),BatchNormalization(name='conv2_bn'),Activation('relu',name='relu2'),MaxPooling2D(strides=2,name='pool2'),\n",
    "                 ZeroPadding2D(padding=(pad,pad)),Conv2D(256,kernel_size=3,padding='valid',name='conv3'),BatchNormalization(name='conv3_bn'),Activation('relu',name='relu3'),MaxPooling2D(strides=2,name='pool3'),\n",
    "                 ZeroPadding2D(padding=(pad,pad)),Conv2D(512,kernel_size=3,padding='valid',name='conv4'),BatchNormalization(name='conv4_bn'),Activation('relu',name='relu4'),MaxPooling2D(strides=2,name='pool4'),\n",
    "                ]\n",
    "\n",
    "\n",
    "\n",
    "decoding_layers=[ZeroPadding2D(padding=(pad,pad)),Conv2D(512,kernel_size=3,padding='valid',name='Convdecode_4'),BatchNormalization(name='Convdecode_4_bn'),\n",
    "                ZeroPadding2D(padding=(pad,pad)),UpSampling2D(size=2,name='Upsample_3'),Conv2D(256,kernel_size=3,padding='valid',name='Convdecode_3'),BatchNormalization(name='Convdecode_3_bn'),\n",
    "                ZeroPadding2D(padding=(pad,pad)),UpSampling2D(size=2,name='Upsample_2'),Conv2D(128,kernel_size=3,padding='valid',name='Convdecode_2'),BatchNormalization(name='Convdecode_2_bn'),\n",
    "                ZeroPadding2D(padding=(pad,pad)),UpSampling2D(size=2,name='Upsample_1'),Conv2D(64,kernel_size=3,padding='valid',name='Convdecode_1'),BatchNormalization(name='Convdecode_1_bn'),\n",
    "                Conv2D(11,kernel_size=1,name='conv_classifier',padding='valid')]\n",
    "\n",
    "\n",
    "#encoder layers\n",
    "segnet_basic=models.Sequential()\n",
    "for l in encoding_layers:\n",
    "    segnet_basic.add(l)\n",
    "#decoder layers\n",
    "for l in decoding_layers:\n",
    "    segnet_basic.add(l)\n",
    "segnet_basic.add(Reshape((12,h,w)))\n",
    "segnet_basic.add(Activation('softmax'))\n",
    "                                                                                                                                      "
   ]
  },
  {
   "cell_type": "code",
   "execution_count": null,
   "metadata": {},
   "outputs": [],
   "source": []
  }
 ],
 "metadata": {
  "kernelspec": {
   "display_name": "Python 3",
   "language": "python",
   "name": "python3"
  },
  "language_info": {
   "codemirror_mode": {
    "name": "ipython",
    "version": 3
   },
   "file_extension": ".py",
   "mimetype": "text/x-python",
   "name": "python",
   "nbconvert_exporter": "python",
   "pygments_lexer": "ipython3",
   "version": "3.6.6"
  }
 },
 "nbformat": 4,
 "nbformat_minor": 2
}
