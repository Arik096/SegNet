{
 "cells": [
  {
   "cell_type": "code",
   "execution_count": 1,
   "metadata": {},
   "outputs": [
    {
     "name": "stderr",
     "output_type": "stream",
     "text": [
      "Using TensorFlow backend.\n"
     ]
    }
   ],
   "source": [
    "import keras as k\n"
   ]
  },
  {
   "cell_type": "code",
   "execution_count": 7,
   "metadata": {},
   "outputs": [],
   "source": [
    "from keras.models import Sequential\n",
    "from keras.layers.core import Activation,Reshape,Permute\n",
    "from keras.layers.convolutional import Conv2D,MaxPooling2D,UpSampling2D\n",
    "from keras.layers.normalization import BatchNormalization"
   ]
  },
  {
   "cell_type": "code",
   "execution_count": null,
   "metadata": {},
   "outputs": [],
   "source": [
    "h=256\n",
    "w=256\n",
    "ks=3\n",
    "encoding_layers=[Conv2D(64,kernel_size=7,padding='same',input_shape=(h,w),name='block1_conv'),BatchNormalization(name='block1_bn'),Activation('relu',name='block1_ac'),input_shape=\n",
    "                 Conv2D(64,ks,padding='same',input_shape=(h,w),name='block2_conv'),BatchNormalization(name='block2_bn'),Activation('relu',name='block2_ac'),MaxPooling2D(),\n",
    "                 Conv2D(128,ks,padding='same',input_shape=(h,w),name='block3_conv'),BatchNormalization(name='block3_bn'),Activation('relu',name='block3_ac'),\n",
    "                 Conv2D(128,ks,padding='same',input_shape=(h,w),name='block4_conv'),BatchNormalization(name='block4_bn'),Activation('relu',name='block4_ac'),MaxPooling2D(),\n",
    "                 Conv2D(256,ks,padding='same',input_shape=(h,w),name='block5_conv'),BatchNormalization(name='block5_bn'),Activation('relu',name='block5_ac'),\n",
    "                 Conv2D(256,ks,padding='same',input_shape=(h,w),name='block6_conv'),BatchNormalization(name='block6_bn'),Activation('relu',name='block6_ac'),\n",
    "                 Conv2D(256,ks,padding='same',input_shape=(h,w),name='block7_conv'),BatchNormalization(name='block7_bn'),Activation('relu',name='block7_ac'),MaxPooling2D(),\n",
    "                 Conv2D(512,ks,padding='same',input_shape=(h,w),name='block8_conv'),BatchNormalization(name='block8_bn'),Activation('relu',name='block8_ac'),\n",
    "                 Conv2D(512,ks,padding='same',input_shape=(h,w),name='block9_conv'),BatchNormalization(name='block9_bn'),Activation('relu',name='block9_ac'),\n",
    "                 Conv2D(512,ks,padding='same',input_shape=(h,w),name='block10_conv'),BatchNormalization(name='block10_bn'),Activation('relu',name='block10_ac'),MaxPooling2D(),\n",
    "                 Conv2D(512,ks,padding='same',input_shape=(h,w),name='block11_conv'),BatchNormalization(name='block11_bn'),Activation('relu',name='block11_ac'),\n",
    "                 Conv2D(512,ks,padding='same',input_shape=(h,w),name='block12_conv'),BatchNormalization(name='block12_bn'),Activation('relu',name='block12_ac'),\n",
    "                 Conv2D(512,ks,padding='same',input_shape=(h,w),name='block13_conv'),BatchNormalization(name='block13_bn'),Activation('relu',name='block13_ac'),MaxPooling2D(),\n",
    "                ]\n",
    "autoencoder=models.Sequential()\n",
    "autoencoder.layers(encoding_layers)\n",
    "\n",
    "decoding_layers"
   ]
  },
  {
   "cell_type": "code",
   "execution_count": null,
   "metadata": {},
   "outputs": [],
   "source": []
  }
 ],
 "metadata": {
  "kernelspec": {
   "display_name": "Python 3",
   "language": "python",
   "name": "python3"
  },
  "language_info": {
   "codemirror_mode": {
    "name": "ipython",
    "version": 3
   },
   "file_extension": ".py",
   "mimetype": "text/x-python",
   "name": "python",
   "nbconvert_exporter": "python",
   "pygments_lexer": "ipython3",
   "version": "3.6.6"
  }
 },
 "nbformat": 4,
 "nbformat_minor": 2
}
