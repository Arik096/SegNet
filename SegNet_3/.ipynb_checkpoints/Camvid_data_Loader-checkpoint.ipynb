{
 "cells": [
  {
   "cell_type": "code",
   "execution_count": 1,
   "metadata": {},
   "outputs": [
    {
     "name": "stdout",
     "output_type": "stream",
     "text": [
      "(3, 360, 480)\n",
      "(360, 480, 3)\n"
     ]
    }
   ],
   "source": [
    "import cv2\n",
    "import scipy\n",
    "import os\n",
    "import numpy as np\n",
    "#creating data\n",
    "data=[]\n",
    "labels=[]\n",
    "path='C:/Users/Hp/SegNet/CamVid/train.txt'\n",
    "with open(path) as f:\n",
    "    txt=f.readlines()\n",
    "    txt=[line.split(\" \") for line in txt]\n",
    "def normimg(rgbimage):\n",
    "    norm=np.zeros(rgbimage.shape)\n",
    "    b=rgbimage[:,:,0]\n",
    "    g=rgbimage[:,:,1]\n",
    "    r=rgbimage[:,:,2]\n",
    "    norm[:,:,0]=cv2.equalizeHist(b)\n",
    "    norm[:,:,1]=cv2.equalizeHist(g)\n",
    "    norm[:,:,2]=cv2.equalizeHist(r)\n",
    "    return norm\n",
    "    \n",
    "for i in range(len(txt)):\n",
    "    data.append(np.rollaxis(cv2.imread('C:/Users/Hp/SegNet' + txt[i][0][7:]),2))\n",
    "    labels.append(cv2.imread(txt[i][1]))\n",
    "\n",
    "print(data[0].shape)\n",
    "img=np.rollaxis(data[2],1)\n",
    "img=np.rollaxis(img,2,1)\n",
    "print(img.shape)\n",
    "\n",
    "cv2.imshow('img',img)\n",
    "cv2.waitKey(0)\n",
    "cv2.destroyAllWindows()\n"
   ]
  },
  {
   "cell_type": "code",
   "execution_count": null,
   "metadata": {},
   "outputs": [],
   "source": []
  }
 ],
 "metadata": {
  "kernelspec": {
   "display_name": "Python 3",
   "language": "python",
   "name": "python3"
  },
  "language_info": {
   "codemirror_mode": {
    "name": "ipython",
    "version": 3
   },
   "file_extension": ".py",
   "mimetype": "text/x-python",
   "name": "python",
   "nbconvert_exporter": "python",
   "pygments_lexer": "ipython3",
   "version": "3.6.6"
  }
 },
 "nbformat": 4,
 "nbformat_minor": 2
}
