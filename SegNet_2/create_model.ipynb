{
 "cells": [
  {
   "cell_type": "code",
   "execution_count": 3,
   "metadata": {},
   "outputs": [
    {
     "ename": "ModuleNotFoundError",
     "evalue": "No module named 'custom_layers'",
     "output_type": "error",
     "traceback": [
      "\u001b[1;31m---------------------------------------------------------------------------\u001b[0m",
      "\u001b[1;31mModuleNotFoundError\u001b[0m                       Traceback (most recent call last)",
      "\u001b[1;32m<ipython-input-3-7bb163bb6c95>\u001b[0m in \u001b[0;36m<module>\u001b[1;34m\u001b[0m\n\u001b[0;32m      1\u001b[0m \u001b[1;32mfrom\u001b[0m \u001b[0mkeras\u001b[0m\u001b[1;33m.\u001b[0m\u001b[0mmodels\u001b[0m \u001b[1;32mimport\u001b[0m \u001b[0mModel\u001b[0m\u001b[1;33m\u001b[0m\u001b[1;33m\u001b[0m\u001b[0m\n\u001b[0;32m      2\u001b[0m \u001b[1;32mfrom\u001b[0m \u001b[0mkeras\u001b[0m\u001b[1;33m.\u001b[0m\u001b[0mlayers\u001b[0m \u001b[1;32mimport\u001b[0m \u001b[0mActivation\u001b[0m\u001b[1;33m,\u001b[0m\u001b[0mInput\u001b[0m\u001b[1;33m,\u001b[0m\u001b[0mZeroPadding2D\u001b[0m\u001b[1;33m,\u001b[0m\u001b[0mCropping2D\u001b[0m\u001b[1;33m\u001b[0m\u001b[1;33m\u001b[0m\u001b[0m\n\u001b[1;32m----> 3\u001b[1;33m \u001b[1;32mfrom\u001b[0m \u001b[0mcustom_layers\u001b[0m \u001b[1;32mimport\u001b[0m \u001b[0mMaxPoolingWithIndices\u001b[0m\u001b[1;33m,\u001b[0m\u001b[0mUpSamplingWithIndices\u001b[0m\u001b[1;33m,\u001b[0m\u001b[0mCompositeConv\u001b[0m\u001b[1;33m\u001b[0m\u001b[1;33m\u001b[0m\u001b[0m\n\u001b[0m\u001b[0;32m      4\u001b[0m \u001b[1;32mimport\u001b[0m \u001b[0mconfig\u001b[0m \u001b[1;32mas\u001b[0m \u001b[0mcf\u001b[0m\u001b[1;33m\u001b[0m\u001b[1;33m\u001b[0m\u001b[0m\n\u001b[0;32m      5\u001b[0m \u001b[1;33m\u001b[0m\u001b[0m\n",
      "\u001b[1;31mModuleNotFoundError\u001b[0m: No module named 'custom_layers'"
     ]
    }
   ],
   "source": [
    "from keras.models import Model\n",
    "from keras.layers import Activation,Input,ZeroPadding2D,Cropping2D\n",
    "from custom_layers import MaxPoolingWithIndices,UpSamplingWithIndices,CompositeConv\n",
    "import config as cf\n",
    "\n",
    "def create_model():\n",
    "    inputs=Input(shape=cf.image_shape)\n",
    "\n",
    "    x = ZeroPadding2D(cf.padding)(inputs)\n",
    "\n",
    "    x=CompositeConv(x,2,64)\n",
    "    x,argmax1=MaxPoolingWithIndices(pool_size=2,strides=2)(x)\n",
    "    \n",
    "    x=CompositeConv(x,2,64)\n",
    "    x,argmax2=MaxPoolingWithIndices(pool_size=2,strides=2)(x)\n",
    "    \n",
    "    x=CompositeConv(x,3,64)\n",
    "    x,argmax3=MaxPoolingWithIndices(pool_size=2,strides=2)(x)\n",
    "\n",
    "    x=CompositeConv(x,3,64)\n",
    "    x,argmax4=MaxPoolingWithIndices(pool_size=2,strides=2)(x)\n",
    "\n",
    "    x=CompositeConv(x,3,64)\n",
    "    x,argmax5=MaxPoolingWithIndices(pool_size=2,strides=2)(x)\n",
    "\n",
    "    x=UpSamplingWithIndices()([x,argmax5])\n",
    "    x=CompositeConv(x,3,64)\n",
    "\n",
    "    x=UpSamplingWithIndices()([x,argmax4])\n",
    "    x=CompositeConv(x,3,64)\n",
    "\n",
    "    x=UpSamplingWithIndices()([x,argmax3])\n",
    "    x=CompositeConv(x,3,64)\n",
    "\n",
    "    x=UpSamplingWithIndices()([x,argmax2])\n",
    "    x=CompositeConv(x,2,64)\n",
    "    \n",
    "    x=UpSamplingWithIndices()([x,argmax1])\n",
    "    x=CompositeConv(x,2,[64,cf.num_classes])\n",
    "\n",
    "    x=Activation('softmax')(x)\n",
    "\n",
    "    y=Cropping2D(cf.padding)(x)\n",
    "    my_model=Model(inputs=inputs,outputs=y)\n",
    "    \n",
    "    return my_model"
   ]
  },
  {
   "cell_type": "code",
   "execution_count": null,
   "metadata": {},
   "outputs": [],
   "source": []
  },
  {
   "cell_type": "code",
   "execution_count": null,
   "metadata": {},
   "outputs": [],
   "source": []
  }
 ],
 "metadata": {
  "kernelspec": {
   "display_name": "Python 3",
   "language": "python",
   "name": "python3"
  },
  "language_info": {
   "codemirror_mode": {
    "name": "ipython",
    "version": 3
   },
   "file_extension": ".py",
   "mimetype": "text/x-python",
   "name": "python",
   "nbconvert_exporter": "python",
   "pygments_lexer": "ipython3",
   "version": "3.7.3"
  }
 },
 "nbformat": 4,
 "nbformat_minor": 2
}
