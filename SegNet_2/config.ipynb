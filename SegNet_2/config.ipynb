{
 "cells": [
  {
   "cell_type": "code",
   "execution_count": 3,
   "metadata": {},
   "outputs": [],
   "source": [
    "training_set_path='CamVid/train.txt'\n",
    "val_set_path='CamVid/val.txt'\n",
    "test_set_path='CamVid/test.txt'\n",
    "model_path='models/'\n",
    "\n",
    "num_classes=12\n",
    "image_shape=(360,480,3)\n",
    "padding=((12,12),(16,16))\n",
    "batch_size=5\n",
    "epochs=100\n",
    "training_set_size=367\n",
    "val_set_size=101\n",
    "test_set_size=233\n",
    "optimizer='sgd'\n",
    "loss_function='categorical_crossentropy'\n",
    "metrics=['accuracy']"
   ]
  },
  {
   "cell_type": "code",
   "execution_count": null,
   "metadata": {},
   "outputs": [],
   "source": []
  }
 ],
 "metadata": {
  "kernelspec": {
   "display_name": "Python 3",
   "language": "python",
   "name": "python3"
  },
  "language_info": {
   "codemirror_mode": {
    "name": "ipython",
    "version": 3
   },
   "file_extension": ".py",
   "mimetype": "text/x-python",
   "name": "python",
   "nbconvert_exporter": "python",
   "pygments_lexer": "ipython3",
   "version": "3.7.3"
  }
 },
 "nbformat": 4,
 "nbformat_minor": 2
}
