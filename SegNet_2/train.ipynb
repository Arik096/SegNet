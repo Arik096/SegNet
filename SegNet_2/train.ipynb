{
 "cells": [
  {
   "cell_type": "code",
   "execution_count": 1,
   "metadata": {},
   "outputs": [
    {
     "name": "stderr",
     "output_type": "stream",
     "text": [
      "Using TensorFlow backend.\n"
     ]
    },
    {
     "ename": "ModuleNotFoundError",
     "evalue": "No module named 'custom_layers'",
     "output_type": "error",
     "traceback": [
      "\u001b[1;31m---------------------------------------------------------------------------\u001b[0m",
      "\u001b[1;31mModuleNotFoundError\u001b[0m                       Traceback (most recent call last)",
      "\u001b[1;32m<ipython-input-1-47469a5cfd30>\u001b[0m in \u001b[0;36m<module>\u001b[1;34m\u001b[0m\n\u001b[0;32m      3\u001b[0m \u001b[1;32mfrom\u001b[0m \u001b[0mkeras\u001b[0m\u001b[1;33m.\u001b[0m\u001b[0mmodels\u001b[0m \u001b[1;32mimport\u001b[0m \u001b[0mModel\u001b[0m\u001b[1;33m\u001b[0m\u001b[1;33m\u001b[0m\u001b[0m\n\u001b[0;32m      4\u001b[0m \u001b[1;32mfrom\u001b[0m \u001b[0mkeras\u001b[0m\u001b[1;33m.\u001b[0m\u001b[0mlayers\u001b[0m \u001b[1;32mimport\u001b[0m \u001b[0mActivation\u001b[0m\u001b[1;33m,\u001b[0m\u001b[0mInput\u001b[0m\u001b[1;33m\u001b[0m\u001b[1;33m\u001b[0m\u001b[0m\n\u001b[1;32m----> 5\u001b[1;33m \u001b[1;32mfrom\u001b[0m \u001b[0mcustom_layers\u001b[0m \u001b[1;32mimport\u001b[0m \u001b[0mMaxPoolingWithIndices\u001b[0m\u001b[1;33m,\u001b[0m\u001b[0mUpSamplingWithIndices\u001b[0m\u001b[1;33m,\u001b[0m\u001b[0mCompositeConv\u001b[0m\u001b[1;33m\u001b[0m\u001b[1;33m\u001b[0m\u001b[0m\n\u001b[0m\u001b[0;32m      6\u001b[0m \u001b[1;32mimport\u001b[0m \u001b[0mconfig\u001b[0m \u001b[1;32mas\u001b[0m \u001b[0mcf\u001b[0m\u001b[1;33m\u001b[0m\u001b[1;33m\u001b[0m\u001b[0m\n\u001b[0;32m      7\u001b[0m \u001b[1;32mfrom\u001b[0m \u001b[0mutil\u001b[0m \u001b[1;32mimport\u001b[0m \u001b[0mread_image_batch\u001b[0m\u001b[1;33m\u001b[0m\u001b[1;33m\u001b[0m\u001b[0m\n",
      "\u001b[1;31mModuleNotFoundError\u001b[0m: No module named 'custom_layers'"
     ]
    }
   ],
   "source": [
    "import argparse\n",
    "from keras.utils import multi_gpu_model\n",
    "from keras.models import Model\n",
    "from keras.layers import Activation,Input\n",
    "from custom_layers import MaxPoolingWithIndices,UpSamplingWithIndices,CompositeConv\n",
    "import config as cf\n",
    "from util import read_image_batch\n",
    "from create_model import create_model\n",
    "\n",
    "def main(args):\n",
    "    my_model=create_model()\n",
    "    my_model.compile(cf.optimizer,loss=cf.loss_function,metrics=cf.metrics)\n",
    "    \n",
    "    if args.resume:\n",
    "        my_model.load_weights(cf.model_path+args.load)\n",
    "    \n",
    "    val_data=read_image_batch(cf.val_set_path,cf.batch_size)\n",
    "    train_data=read_image_batch(cf.training_set_path,cf.batch_size)\n",
    "    my_model.fit_generator(train_data,\n",
    "                           steps_per_epoch=(cf.training_set_size+1)//cf.batch_size,\n",
    "                           epochs=cf.epochs,validation_data=val_data,\n",
    "                           validation_steps=(cf.val_set_size+1)//cf.batch_size)\n",
    "    my_model.save_weights(cf.model_path+args.save)\n",
    "    \n",
    "if __name__ == \"__main__\":\n",
    "    parser = argparse.ArgumentParser()\n",
    "    parser.add_argument(\"--save\",default='my_model')\n",
    "    parser.add_argument(\"--resume\",action='store_true')\n",
    "    parser.add_argument(\"--load\",default='my_model')\n",
    "    args = parser.parse_args()\n",
    "    main(args)\n"
   ]
  },
  {
   "cell_type": "code",
   "execution_count": null,
   "metadata": {},
   "outputs": [],
   "source": []
  }
 ],
 "metadata": {
  "kernelspec": {
   "display_name": "Python 3",
   "language": "python",
   "name": "python3"
  },
  "language_info": {
   "codemirror_mode": {
    "name": "ipython",
    "version": 3
   },
   "file_extension": ".py",
   "mimetype": "text/x-python",
   "name": "python",
   "nbconvert_exporter": "python",
   "pygments_lexer": "ipython3",
   "version": "3.7.3"
  }
 },
 "nbformat": 4,
 "nbformat_minor": 2
}
