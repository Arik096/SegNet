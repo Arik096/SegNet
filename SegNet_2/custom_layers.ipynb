{
 "cells": [
  {
   "cell_type": "code",
   "execution_count": 1,
   "metadata": {},
   "outputs": [
    {
     "name": "stderr",
     "output_type": "stream",
     "text": [
      "Using TensorFlow backend.\n"
     ]
    }
   ],
   "source": [
    "from keras.layers import Activation,BatchNormalization,Conv2D\n",
    "from keras.engine.topology import Layer\n",
    "import keras.backend as K\n",
    "\n",
    "class MaxPoolingWithIndices(Layer):\n",
    "    def __init__(self, pool_size,strides,padding='SAME',**kwargs):\n",
    "        super(MaxPoolingWithIndices, self).__init__(**kwargs)\n",
    "        self.pool_size=pool_size\n",
    "        self.strides=strides\n",
    "        self.padding=padding\n",
    "        return\n",
    "    def call(self,x):\n",
    "        pool_size=self.pool_size\n",
    "        strides=self.strides\n",
    "        if isinstance(pool_size,int):\n",
    "            ps=[1,pool_size,pool_size,1]\n",
    "        else:\n",
    "            ps=[1,pool_size[0],pool_size[1],1]\n",
    "        if isinstance(strides,int):\n",
    "            st=[1,strides,strides,1]\n",
    "        else:\n",
    "            st=[1,strides[0],strides[1],1]\n",
    "        output1,output2=K.tf.nn.max_pool_with_argmax(x,ps,st,self.padding)\n",
    "        return [output1,output2]\n",
    "    def compute_output_shape(self, input_shape):\n",
    "        if isinstance(self.pool_size,int):\n",
    "            output_shape=(input_shape[0],input_shape[1]//self.pool_size,input_shape[2]//self.pool_size,input_shape[3])\n",
    "        else:\n",
    "            output_shape=(input_shape[0],input_shape[1]//self.pool_size[0],input_shape[2]//self.pool_size[1],input_shape[3])\n",
    "        return [output_shape,output_shape]\n",
    "\n",
    "\n",
    "class UpSamplingWithIndices(Layer):\n",
    "    def __init__(self, **kwargs):\n",
    "        super(UpSamplingWithIndices, self).__init__(**kwargs)\n",
    "        return\n",
    "    def call(self,x):\n",
    "        argmax=K.cast(K.flatten(x[1]),'int32')\n",
    "        max_value=K.flatten(x[0])\n",
    "        with K.tf.variable_scope(self.name):\n",
    "            input_shape=K.shape(x[0])\n",
    "            batch_size=input_shape[0]\n",
    "            image_size=input_shape[1]*input_shape[2]*input_shape[3]\n",
    "            output_shape=[input_shape[0],input_shape[1]*2,input_shape[2]*2,input_shape[3]]\n",
    "            indices_0=K.flatten(K.tf.matmul(K.reshape(K.tf.range(batch_size),(batch_size,1)),K.ones((1,image_size),dtype='int32')))\n",
    "            indices_1=argmax%(image_size*4)//(output_shape[2]*output_shape[3])\n",
    "            indices_2=argmax%(output_shape[2]*output_shape[3])//output_shape[3]\n",
    "            indices_3=argmax%output_shape[3]\n",
    "            indices=K.tf.stack([indices_0,indices_1,indices_2,indices_3])\n",
    "            output=K.tf.scatter_nd(K.transpose(indices),max_value,output_shape)\n",
    "            return output\n",
    "    def compute_output_shape(self, input_shape):\n",
    "        return input_shape[0][0],input_shape[0][1]*2,input_shape[0][2]*2,input_shape[0][3]\n",
    "\n",
    "def CompositeConv(inputs,num_layers,num_features):\n",
    "    output=inputs\n",
    "    if isinstance(num_features,int):\n",
    "        for i in range(num_layers):\n",
    "            output=Conv2D(num_features,(7,7),padding='same')(output)\n",
    "            output=BatchNormalization(axis=3)(output)\n",
    "            output=Activation('relu')(output)\n",
    "        return output\n",
    "    for i in range(num_layers):\n",
    "        output=Conv2D(num_features[i],(7,7),padding='same')(output)\n",
    "        output=BatchNormalization(axis=3)(output)\n",
    "        output=Activation('relu')(output)\n",
    "    return output"
   ]
  },
  {
   "cell_type": "code",
   "execution_count": null,
   "metadata": {},
   "outputs": [],
   "source": []
  }
 ],
 "metadata": {
  "kernelspec": {
   "display_name": "Python 3",
   "language": "python",
   "name": "python3"
  },
  "language_info": {
   "codemirror_mode": {
    "name": "ipython",
    "version": 3
   },
   "file_extension": ".py",
   "mimetype": "text/x-python",
   "name": "python",
   "nbconvert_exporter": "python",
   "pygments_lexer": "ipython3",
   "version": "3.7.3"
  }
 },
 "nbformat": 4,
 "nbformat_minor": 2
}
