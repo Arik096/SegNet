{
 "cells": [
  {
   "cell_type": "code",
   "execution_count": 1,
   "metadata": {},
   "outputs": [
    {
     "name": "stderr",
     "output_type": "stream",
     "text": [
      "Using TensorFlow backend.\n"
     ]
    }
   ],
   "source": [
    "from ArNet import *\n",
    "from utils import *\n",
    "from keras.utils import np_utils\n",
    "from keras.utils.vis_utils import plot_model\n",
    "from keras.utils import plot_model\n",
    "import IPython\n",
    "%matplotlib inline\n",
    "%run ./ArNet.py"
   ]
  },
  {
   "cell_type": "code",
   "execution_count": 2,
   "metadata": {
    "hidden": true
   },
   "outputs": [
    {
     "name": "stderr",
     "output_type": "stream",
     "text": [
      "100%|███████████████████████████████████████████████████████████████████████████████| 367/367 [00:02<00:00, 123.16it/s]\n",
      "100%|███████████████████████████████████████████████████████████████████████████████| 367/367 [00:00<00:00, 369.33it/s]\n",
      "100%|███████████████████████████████████████████████████████████████████████████████| 101/101 [00:00<00:00, 117.37it/s]\n",
      "100%|███████████████████████████████████████████████████████████████████████████████| 101/101 [00:00<00:00, 331.18it/s]\n"
     ]
    }
   ],
   "source": [
    "img_size = (360,480)\n",
    "\n",
    "img_path = './CamVid/train'\n",
    "mask_path = './CamVid/trainannot'\n",
    "val_path = './CamVid/val'\n",
    "val_masks = './CamVid/valannot'\n",
    "\n",
    "X_train = load_images(img_size[0],img_size[1],img_path= img_path)\n",
    "X_train_masks = load_images(img_size[0],img_size[1],img_path=mask_path)\n",
    "X_val = load_images(img_size[0],img_size[1],val_path)\n",
    "X_val_masks = load_images(img_size[0],img_size[1],val_masks)"
   ]
  },
  {
   "cell_type": "code",
   "execution_count": 3,
   "metadata": {
    "hidden": true
   },
   "outputs": [],
   "source": [
    "Sky = [128,128,128]\n",
    "Building = [128,0,0]\n",
    "Pole = [192,192,128]\n",
    "Road_marking = [255,69,0]\n",
    "Road = [128,64,128]\n",
    "Pavement = [60,40,222]\n",
    "Tree = [128,128,0]\n",
    "SignSymbol = [192,128,128]\n",
    "Fence = [64,64,128]\n",
    "Car = [64,0,128]\n",
    "Pedestrian = [64,64,0]\n",
    "Bicyclist = [0,128,192]\n",
    "Unlabelled = [0,0,0]\n",
    "\n",
    "# We dont want to classify unlabelled.it will only make our dataset more unbalanced than it already is\n",
    "label_values = [Sky,Building,Pole,Road,Pavement,Tree,\n",
    "                SignSymbol,Fence,Car,Pedestrian,Bicyclist,Unlabelled]"
   ]
  },
  {
   "cell_type": "code",
   "execution_count": 4,
   "metadata": {
    "hidden": true
   },
   "outputs": [],
   "source": [
    "X_train_norm = [equalize_hist(X_train[i]) for i in range(len(X_train))]\n",
    "X_val_norm = [equalize_hist(X_val[i]) for i in range(len(X_val))]\n",
    "X_train_norm = np.array(X_train_norm)\n",
    "X_val_norm = np.array(X_val_norm)\n",
    "np.save(\"C:/Users/arik0/ArNet/Training/X_train.npy\",X_train_norm)\n",
    "np.save(\"C:/Users/arik0/ArNet/Training/X_val_norm.npy\",X_val_norm)"
   ]
  },
  {
   "cell_type": "code",
   "execution_count": 5,
   "metadata": {
    "hidden": true
   },
   "outputs": [],
   "source": [
    "y_train_norm = [one_hot_it(X_train_masks[i],label_values) for i in range(len(X_train_masks))]\n",
    "y_train_val = [one_hot_it(X_val_masks[i],label_values) for i in range(len(X_val_masks))]\n",
    "y_train_norm = np.array(y_train_norm)\n",
    "y_train_val = np.array(y_train_val)\n",
    "np.save(\"C:/Users/arik0/ArNet/Training/y_train.npy\",y_train_norm)\n",
    "np.save(\"C:/Users/arik0/ArNet/Training/y_val.npy\",y_train_val)"
   ]
  },
  {
   "cell_type": "code",
   "execution_count": 6,
   "metadata": {
    "hidden": true
   },
   "outputs": [],
   "source": [
    "X_train = np.load(\"C:/Users/arik0/ArNet/Training/X_train.npy\")\n",
    "y_train_norm = np.load(\"C:/Users/arik0/ArNet/Training/y_train.npy\")\n",
    "X_val = np.load(\"C:/Users/arik0/ArNet/Training/X_val_norm.npy\")\n",
    "y_val = np.load(\"C:/Users/arik0/ArNet/Training/y_val.npy\")"
   ]
  },
  {
   "cell_type": "code",
   "execution_count": 7,
   "metadata": {
    "hidden": true
   },
   "outputs": [
    {
     "name": "stderr",
     "output_type": "stream",
     "text": [
      "C:\\Users\\arik0\\Anaconda3\\lib\\site-packages\\numpy\\core\\fromnumeric.py:3335: RuntimeWarning: Mean of empty slice.\n",
      "  out=out, **kwargs)\n",
      "C:\\Users\\arik0\\Anaconda3\\lib\\site-packages\\numpy\\core\\_methods.py:161: RuntimeWarning: invalid value encountered in double_scalars\n",
      "  ret = ret.dtype.type(ret / rcount)\n"
     ]
    }
   ],
   "source": [
    "X_oh = reverse_one_hot(y_train_norm)\n",
    "weights = median_frequency_balancing(X_oh)"
   ]
  },
  {
   "cell_type": "code",
   "execution_count": 8,
   "metadata": {
    "hidden": true
   },
   "outputs": [],
   "source": [
    "from keras.callbacks import ModelCheckpoint\n",
    "from livelossplot.keras import PlotLossesCallback\n",
    "fpathmodel=\"C:/Users/arik0/ArNet/logseg/seg1.hdf5\"\n",
    "cp = ModelCheckpoint(fpathmodel, monitor='acc', verbose=2, save_best_only=True, mode='min') \n",
    "callbacks_list = [cp,PlotLossesCallback()]"
   ]
  },
  {
   "cell_type": "code",
   "execution_count": 9,
   "metadata": {
    "hidden": true
   },
   "outputs": [],
   "source": [
    "network = arnet(img_size=(360,480,3),classes=12,optimizer='adam',loss_function='categorical_crossentropy',metric=['acc'])"
   ]
  },
  {
   "cell_type": "code",
   "execution_count": 10,
   "metadata": {
    "hidden": true
   },
   "outputs": [],
   "source": [
    "y_train_norm = y_train_norm.reshape((y_train_norm.shape[0],y_train_norm.shape[1]*y_train_norm.shape[2],\n",
    "                                    y_train_norm.shape[3]))\n",
    "\n",
    "y_val = y_val.reshape((y_val.shape[0],y_val.shape[1]*y_val.shape[2],\n",
    "                                    y_val.shape[3]))"
   ]
  },
  {
   "cell_type": "code",
   "execution_count": null,
   "metadata": {
    "hidden": true
   },
   "outputs": [
    {
     "data": {
      "image/png": "[encoded data removed]",
      "text/plain": [
       "<Figure size 864x576 with 2 Axes>"
      ]
     },
     "metadata": {
      "needs_background": "light"
     },
     "output_type": "display_data"
    },
    {
     "name": "stdout",
     "output_type": "stream",
     "text": [
      "Log-loss (cost function):\n",
      "training   (min:    0.009, max:    0.157, cur:    0.009)\n",
      "validation (min:    0.024, max:    0.090, cur:    0.090)\n",
      "\n",
      "Accuracy:\n",
      "training   (min:    0.169, max:    0.194, cur:    0.169)\n",
      "validation (min:    0.092, max:    0.092, cur:    0.092)\n",
      "Epoch 7/20\n",
      "183/367 [=============>................] - ETA: 11:47 - loss: 0.0157 - acc: 0.1736"
     ]
    }
   ],
   "source": [
    "network.fit(X_train,y_train_norm, \n",
    "                  validation_data=(X_val,y_val),batch_size=1,shuffle=True,\n",
    "                  epochs=20, verbose=1, callbacks=callbacks_list,class_weight=weights)"
   ]
  }
 ],
 "metadata": {
  "kernelspec": {
   "display_name": "Python 3",
   "language": "python",
   "name": "python3"
  },
  "language_info": {
   "codemirror_mode": {
    "name": "ipython",
    "version": 3
   },
   "file_extension": ".py",
   "mimetype": "text/x-python",
   "name": "python",
   "nbconvert_exporter": "python",
   "pygments_lexer": "ipython3",
   "version": "3.7.4"
  },
  "varInspector": {
   "cols": {
    "lenName": 16,
    "lenType": 16,
    "lenVar": 40
   },
   "kernels_config": {
    "python": {
     "delete_cmd_postfix": "",
     "delete_cmd_prefix": "del ",
     "library": "var_list.py",
     "varRefreshCmd": "print(var_dic_list())"
    },
    "r": {
     "delete_cmd_postfix": ") ",
     "delete_cmd_prefix": "rm(",
     "library": "var_list.r",
     "varRefreshCmd": "cat(var_dic_list()) "
    }
   },
   "oldHeight": 702.38366,
   "position": {
    "height": "234.383px",
    "left": "943.233px",
    "right": "167.133px",
    "top": "172px",
    "width": "626.067px"
   },
   "types_to_exclude": [
    "module",
    "function",
    "builtin_function_or_method",
    "instance",
    "_Feature"
   ],
   "varInspector_section_display": "block",
   "window_display": false
  }
 },
 "nbformat": 4,
 "nbformat_minor": 2
}
