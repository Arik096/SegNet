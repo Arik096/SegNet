{
 "cells": [
  {
   "cell_type": "code",
   "execution_count": 2,
   "metadata": {},
   "outputs": [],
   "source": [
    "import os\n",
    "os.environ['KERAS_BACKEND'] = 'theano'\n",
    "os.environ['THEANO_FLAGS']='mode=FAST_RUN,device=cpu,floatX=float32,optimizer=fast_compile'"
   ]
  },
  {
   "cell_type": "code",
   "execution_count": 3,
   "metadata": {},
   "outputs": [],
   "source": [
    "from __future__ import absolute_import\n",
    "from __future__ import print_function\n",
    "import numpy as np\n",
    "import tensorflow as tf\n",
    "import tensorflow.keras.models as models\n",
    "from tensorflow.keras.layers import Layer, Dense, Dropout, Activation, Flatten, Reshape, Permute\n",
    "from tensorflow.keras.layers import Convolution2D, MaxPooling2D, UpSampling2D, ZeroPadding2D\n",
    "from tensorflow.keras.layers import BatchNormalization\n",
    "import cv2\n",
    "import numpy as np\n",
    "\n",
    "path = './CamVid/'\n",
    "data_shape = 360*480"
   ]
  },
  {
   "cell_type": "code",
   "execution_count": 4,
   "metadata": {},
   "outputs": [
    {
     "name": "stdout",
     "output_type": "stream",
     "text": [
      "..............................................................................................................................................................................................................................................................................................................................................................................."
     ]
    }
   ],
   "source": [
    "def normalized(rgb):\n",
    "    norm=np.zeros((rgb.shape[0], rgb.shape[1], 3),np.float32)\n",
    "    b=rgb[:,:,0]\n",
    "    g=rgb[:,:,1]\n",
    "    r=rgb[:,:,2]\n",
    "    norm[:,:,0]=cv2.equalizeHist(b)\n",
    "    norm[:,:,1]=cv2.equalizeHist(g)\n",
    "    norm[:,:,2]=cv2.equalizeHist(r)\n",
    "    return norm\n",
    "def binarylab(labels):\n",
    "    x = np.zeros([360,480,12])    \n",
    "    for i in range(360):\n",
    "        for j in range(480):\n",
    "            x[i,j,labels[i][j]]=1\n",
    "    return x\n",
    "def prep_data():\n",
    "    train_data = []\n",
    "    train_label = []\n",
    "    import os\n",
    "    with open(path+'train.txt') as f:\n",
    "        txt = f.readlines()\n",
    "        txt = [line.split(' ') for line in txt]\n",
    "    for i in range(len(txt)):\n",
    "        train_data.append(np.rollaxis(normalized(cv2.imread(os.getcwd() + txt[i][0][7:])),2))\n",
    "        train_label.append(binarylab(cv2.imread(os.getcwd() + txt[i][1][7:][:-1])[:,:,0]))\n",
    "        print('.',end='')\n",
    "    return np.array(train_data), np.array(train_label)\n",
    "\n",
    "train_data, train_label = prep_data()\n",
    "train_label = np.reshape(train_label,(367,data_shape,12))"
   ]
  },
  {
   "cell_type": "code",
   "execution_count": 4,
   "metadata": {},
   "outputs": [],
   "source": [
    "class_weighting= [0.2595, 0.1826, 4.5640, 0.1417, 0.9051, 0.3826, 9.6446, 1.8418, 6.6823, 6.2478, 3.0, 7.3614]"
   ]
  },
  {
   "cell_type": "code",
   "execution_count": 5,
   "metadata": {},
   "outputs": [],
   "source": [
    "class UnPooling2D(Layer):\n",
    "    def __init__(self, poolsize=(2, 2)):\n",
    "        super(UnPooling2D, self).__init__()\n",
    "        self.Input = tf.keras.layers.InputLayer()\n",
    "        self.poolsize = poolsize\n",
    "    @property\n",
    "    def output_shape(self):\n",
    "        input_shape = self.input_shape\n",
    "        return (input_shape[0], input_shape[1],\n",
    "                self.poolsize[0] * input_shape[2],\n",
    "                self.poolsize[1] * input_shape[3])\n",
    "    def get_output(self, train):\n",
    "        X = self.get_input(train)\n",
    "        s1 = self.poolsize[0]\n",
    "        s2 = self.poolsize[1]\n",
    "        output = X.repeat(s1, axis=2).repeat(s2, axis=3)\n",
    "        return output\n",
    "    def get_config(self):\n",
    "        return {\"name\":self.__class__.__name__,\n",
    "            \"poolsize\":self.poolsize}"
   ]
  },
  {
   "cell_type": "code",
   "execution_count": 13,
   "metadata": {},
   "outputs": [],
   "source": [
    "def create_encoding_layers():\n",
    "    kernel = 3\n",
    "    filter_size = 64\n",
    "    pad = 1\n",
    "    pool_size = 2\n",
    "    return [\n",
    "        ZeroPadding2D(padding=(pad,pad)),\n",
    "        Convolution2D(64, 3, 3, padding='valid'),\n",
    "        BatchNormalization(),\n",
    "        Activation('relu'),\n",
    "        Convolution2D(64, 3, 3, padding='valid'),\n",
    "        BatchNormalization(),\n",
    "        Activation('relu'),\n",
    "        Convolution2D(64, 3, 3, padding='valid'),\n",
    "        BatchNormalization(),\n",
    "        Activation('relu'),\n",
    "        MaxPooling2D(pool_size=(pool_size, pool_size),data_format=\"channels_first\"),\n",
    "        \n",
    "        ZeroPadding2D(padding=(pad,pad)),\n",
    "        Convolution2D(128, 3, 3, padding='valid'),\n",
    "        BatchNormalization(),\n",
    "        Activation('relu'),\n",
    "        Convolution2D(128, 3, 3, padding='valid'),\n",
    "        BatchNormalization(),\n",
    "        Activation('relu'),\n",
    "        MaxPooling2D(pool_size=(pool_size, pool_size),data_format=\"channels_first\"),\n",
    "\n",
    "        ZeroPadding2D(padding=(pad,pad)),\n",
    "        Convolution2D(256, 3, 3, padding='valid'),\n",
    "        BatchNormalization(),\n",
    "        Activation('relu'),\n",
    "        Convolution2D(256, 3, 3, padding='valid'),\n",
    "        BatchNormalization(),\n",
    "        Activation('relu'),\n",
    "        Convolution2D(256, 3, 3, padding='valid'),\n",
    "        BatchNormalization(),\n",
    "        Activation('relu'),\n",
    "        MaxPooling2D(pool_size=(pool_size, pool_size),data_format=\"channels_first\"),\n",
    "\n",
    "        ZeroPadding2D(padding=(pad,pad)),\n",
    "        Convolution2D(512, 3, 3, padding='valid'),\n",
    "        BatchNormalization(),\n",
    "        Activation('relu'),\n",
    "        Convolution2D(512, 3, 3, padding='valid'),\n",
    "        BatchNormalization(),\n",
    "        Activation('relu'),\n",
    "        Convolution2D(512, 3, 3, padding='valid'),\n",
    "        BatchNormalization(),\n",
    "        Activation('relu'),\n",
    "        MaxPooling2D(pool_size=(pool_size, pool_size),data_format=\"channels_first\"),\n",
    "\n",
    "        ZeroPadding2D(padding=(pad,pad)),\n",
    "        Convolution2D(512, 3, 3, padding='valid'),\n",
    "        BatchNormalization(),\n",
    "        Activation('relu'),\n",
    "        Convolution2D(512, 3, 3, padding='valid'),\n",
    "        BatchNormalization(),\n",
    "        Activation('relu'),\n",
    "        Convolution2D(512, 3, 3, padding='valid'),\n",
    "        BatchNormalization(),\n",
    "        Activation('relu'),\n",
    "        MaxPooling2D(pool_size=(pool_size, pool_size),data_format=\"channels_first\"),\n",
    "    ]\n",
    "\n",
    "def create_decoding_layers():\n",
    "    kernel = 3\n",
    "    filter_size = 64\n",
    "    pad = 1\n",
    "    pool_size = 2\n",
    "    return[\n",
    "        ZeroPadding2D(padding=(pad,pad)),\n",
    "        Convolution2D(512, kernel, kernel, padding='valid'),\n",
    "        BatchNormalization(),\n",
    "\n",
    "        UnPooling2D(poolsize=(pool_size,pool_size)),\n",
    "        ZeroPadding2D(padding=(pad,pad)),\n",
    "        Convolution2D(256, kernel, kernel, padding='valid'),\n",
    "        BatchNormalization(),\n",
    "\n",
    "        UnPooling2D(poolsize=(pool_size,pool_size)),\n",
    "        ZeroPadding2D(padding=(pad,pad)),\n",
    "        Convolution2D(128, kernel, kernel, padding='valid'),\n",
    "        BatchNormalization(),\n",
    "        \n",
    "        UnPooling2D(poolsize=(pool_size,pool_size)),\n",
    "        ZeroPadding2D(padding=(pad,pad)),\n",
    "        Convolution2D(64, kernel, kernel, padding='valid'),\n",
    "        BatchNormalization(),\n",
    "\n",
    "        UnPooling2D(poolsize=(pool_size,pool_size)),\n",
    "        ZeroPadding2D(padding=(pad,pad)),\n",
    "        Convolution2D(filter_size, kernel, kernel, padding='valid'),\n",
    "        BatchNormalization(),\n",
    "    ]\n",
    "\n",
    "autoencoder = models.Sequential()\n",
    "\n",
    "autoencoder.add(Layer(input_shape=(3,360,480)))\n",
    "\n",
    "autoencoder.encoding_layers = create_encoding_layers()\n",
    "autoencoder.decoding_layers = create_decoding_layers()\n",
    "\n",
    "autoencoder.add(Convolution2D(12, 1, 1, padding='valid',))\n",
    "autoencoder.add(Reshape((12,data_shape)))\n",
    "autoencoder.add(Permute((2, 1)))\n",
    "autoencoder.add(Activation('softmax'))\n",
    "autoencoder.compile(loss=\"categorical_crossentropy\", optimizer='adadelta')"
   ]
  },
  {
   "cell_type": "code",
   "execution_count": 14,
   "metadata": {},
   "outputs": [
    {
     "name": "stdout",
     "output_type": "stream",
     "text": [
      "Model: \"sequential_5\"\n",
      "_________________________________________________________________\n",
      "Layer (type)                 Output Shape              Param #   \n",
      "=================================================================\n",
      "layer_5 (Layer)              (None, 3, 360, 480)       0         \n",
      "_________________________________________________________________\n",
      "conv2d_94 (Conv2D)           (None, 3, 360, 12)        5772      \n",
      "_________________________________________________________________\n",
      "reshape_3 (Reshape)          (None, 12, 172800)        0         \n",
      "_________________________________________________________________\n",
      "permute_3 (Permute)          (None, 172800, 12)        0         \n",
      "_________________________________________________________________\n",
      "activation_69 (Activation)   (None, 172800, 12)        0         \n",
      "=================================================================\n",
      "Total params: 5,772\n",
      "Trainable params: 5,772\n",
      "Non-trainable params: 0\n",
      "_________________________________________________________________\n",
      "None\n"
     ]
    },
    {
     "data": {
      "image/png": "[encoded data removed]",
      "text/plain": [
       "<IPython.core.display.Image object>"
      ]
     },
     "execution_count": 14,
     "metadata": {},
     "output_type": "execute_result"
    }
   ],
   "source": [
    "from tensorflow.keras.utils import plot_model\n",
    "print(autoencoder.summary())\n",
    "plot_model(autoencoder, to_file='model_plot.png', show_shapes=True, show_layer_names=True)"
   ]
  },
  {
   "cell_type": "code",
   "execution_count": 8,
   "metadata": {},
   "outputs": [
    {
     "name": "stdout",
     "output_type": "stream",
     "text": [
      "WARNING:tensorflow:The `nb_epoch` argument in `fit` has been renamed `epochs`.\n",
      "WARNING:tensorflow:From C:\\Users\\arik0\\Anaconda3\\lib\\site-packages\\tensorflow\\python\\ops\\math_grad.py:1250: add_dispatch_support.<locals>.wrapper (from tensorflow.python.ops.array_ops) is deprecated and will be removed in a future version.\n",
      "Instructions for updating:\n",
      "Use tf.where in 2.0, which has the same broadcast rule as np.where\n",
      "Epoch 1/5\n"
     ]
    },
    {
     "ename": "InvalidArgumentError",
     "evalue": "Input to reshape is a tensor with 129600 values, but the requested shape has 20736000\n\t [[{{node reshape/Reshape}}]]",
     "output_type": "error",
     "traceback": [
      "\u001b[1;31m---------------------------------------------------------------------------\u001b[0m",
      "\u001b[1;31mInvalidArgumentError\u001b[0m                      Traceback (most recent call last)",
      "\u001b[1;32m<ipython-input-8-114e0ffd9b8a>\u001b[0m in \u001b[0;36m<module>\u001b[1;34m\u001b[0m\n\u001b[0;32m      3\u001b[0m \u001b[1;33m\u001b[0m\u001b[0m\n\u001b[0;32m      4\u001b[0m history = autoencoder.fit(train_data, train_label, batch_size=batch_size, nb_epoch=nb_epoch,\n\u001b[1;32m----> 5\u001b[1;33m                     verbose=1, class_weight=class_weighting )\n\u001b[0m\u001b[0;32m      6\u001b[0m \u001b[0mautoencoder\u001b[0m\u001b[1;33m.\u001b[0m\u001b[0msave_weights\u001b[0m\u001b[1;33m(\u001b[0m\u001b[1;34m'model_weight_ep100.hdf5'\u001b[0m\u001b[1;33m)\u001b[0m\u001b[1;33m\u001b[0m\u001b[1;33m\u001b[0m\u001b[0m\n",
      "\u001b[1;32m~\\Anaconda3\\lib\\site-packages\\tensorflow\\python\\keras\\engine\\training.py\u001b[0m in \u001b[0;36mfit\u001b[1;34m(self, x, y, batch_size, epochs, verbose, callbacks, validation_split, validation_data, shuffle, class_weight, sample_weight, initial_epoch, steps_per_epoch, validation_steps, validation_freq, max_queue_size, workers, use_multiprocessing, **kwargs)\u001b[0m\n\u001b[0;32m    778\u001b[0m           \u001b[0mvalidation_steps\u001b[0m\u001b[1;33m=\u001b[0m\u001b[0mvalidation_steps\u001b[0m\u001b[1;33m,\u001b[0m\u001b[1;33m\u001b[0m\u001b[1;33m\u001b[0m\u001b[0m\n\u001b[0;32m    779\u001b[0m           \u001b[0mvalidation_freq\u001b[0m\u001b[1;33m=\u001b[0m\u001b[0mvalidation_freq\u001b[0m\u001b[1;33m,\u001b[0m\u001b[1;33m\u001b[0m\u001b[1;33m\u001b[0m\u001b[0m\n\u001b[1;32m--> 780\u001b[1;33m           steps_name='steps_per_epoch')\n\u001b[0m\u001b[0;32m    781\u001b[0m \u001b[1;33m\u001b[0m\u001b[0m\n\u001b[0;32m    782\u001b[0m   def evaluate(self,\n",
      "\u001b[1;32m~\\Anaconda3\\lib\\site-packages\\tensorflow\\python\\keras\\engine\\training_arrays.py\u001b[0m in \u001b[0;36mmodel_iteration\u001b[1;34m(model, inputs, targets, sample_weights, batch_size, epochs, verbose, callbacks, val_inputs, val_targets, val_sample_weights, shuffle, initial_epoch, steps_per_epoch, validation_steps, validation_freq, mode, validation_in_fit, prepared_feed_values_from_dataset, steps_name, **kwargs)\u001b[0m\n\u001b[0;32m    361\u001b[0m \u001b[1;33m\u001b[0m\u001b[0m\n\u001b[0;32m    362\u001b[0m         \u001b[1;31m# Get outputs.\u001b[0m\u001b[1;33m\u001b[0m\u001b[1;33m\u001b[0m\u001b[1;33m\u001b[0m\u001b[0m\n\u001b[1;32m--> 363\u001b[1;33m         \u001b[0mbatch_outs\u001b[0m \u001b[1;33m=\u001b[0m \u001b[0mf\u001b[0m\u001b[1;33m(\u001b[0m\u001b[0mins_batch\u001b[0m\u001b[1;33m)\u001b[0m\u001b[1;33m\u001b[0m\u001b[1;33m\u001b[0m\u001b[0m\n\u001b[0m\u001b[0;32m    364\u001b[0m         \u001b[1;32mif\u001b[0m \u001b[1;32mnot\u001b[0m \u001b[0misinstance\u001b[0m\u001b[1;33m(\u001b[0m\u001b[0mbatch_outs\u001b[0m\u001b[1;33m,\u001b[0m \u001b[0mlist\u001b[0m\u001b[1;33m)\u001b[0m\u001b[1;33m:\u001b[0m\u001b[1;33m\u001b[0m\u001b[1;33m\u001b[0m\u001b[0m\n\u001b[0;32m    365\u001b[0m           \u001b[0mbatch_outs\u001b[0m \u001b[1;33m=\u001b[0m \u001b[1;33m[\u001b[0m\u001b[0mbatch_outs\u001b[0m\u001b[1;33m]\u001b[0m\u001b[1;33m\u001b[0m\u001b[1;33m\u001b[0m\u001b[0m\n",
      "\u001b[1;32m~\\Anaconda3\\lib\\site-packages\\tensorflow\\python\\keras\\backend.py\u001b[0m in \u001b[0;36m__call__\u001b[1;34m(self, inputs)\u001b[0m\n\u001b[0;32m   3290\u001b[0m \u001b[1;33m\u001b[0m\u001b[0m\n\u001b[0;32m   3291\u001b[0m     fetched = self._callable_fn(*array_vals,\n\u001b[1;32m-> 3292\u001b[1;33m                                 run_metadata=self.run_metadata)\n\u001b[0m\u001b[0;32m   3293\u001b[0m     \u001b[0mself\u001b[0m\u001b[1;33m.\u001b[0m\u001b[0m_call_fetch_callbacks\u001b[0m\u001b[1;33m(\u001b[0m\u001b[0mfetched\u001b[0m\u001b[1;33m[\u001b[0m\u001b[1;33m-\u001b[0m\u001b[0mlen\u001b[0m\u001b[1;33m(\u001b[0m\u001b[0mself\u001b[0m\u001b[1;33m.\u001b[0m\u001b[0m_fetches\u001b[0m\u001b[1;33m)\u001b[0m\u001b[1;33m:\u001b[0m\u001b[1;33m]\u001b[0m\u001b[1;33m)\u001b[0m\u001b[1;33m\u001b[0m\u001b[1;33m\u001b[0m\u001b[0m\n\u001b[0;32m   3294\u001b[0m     output_structure = nest.pack_sequence_as(\n",
      "\u001b[1;32m~\\Anaconda3\\lib\\site-packages\\tensorflow\\python\\client\\session.py\u001b[0m in \u001b[0;36m__call__\u001b[1;34m(self, *args, **kwargs)\u001b[0m\n\u001b[0;32m   1456\u001b[0m         ret = tf_session.TF_SessionRunCallable(self._session._session,\n\u001b[0;32m   1457\u001b[0m                                                \u001b[0mself\u001b[0m\u001b[1;33m.\u001b[0m\u001b[0m_handle\u001b[0m\u001b[1;33m,\u001b[0m \u001b[0margs\u001b[0m\u001b[1;33m,\u001b[0m\u001b[1;33m\u001b[0m\u001b[1;33m\u001b[0m\u001b[0m\n\u001b[1;32m-> 1458\u001b[1;33m                                                run_metadata_ptr)\n\u001b[0m\u001b[0;32m   1459\u001b[0m         \u001b[1;32mif\u001b[0m \u001b[0mrun_metadata\u001b[0m\u001b[1;33m:\u001b[0m\u001b[1;33m\u001b[0m\u001b[1;33m\u001b[0m\u001b[0m\n\u001b[0;32m   1460\u001b[0m           \u001b[0mproto_data\u001b[0m \u001b[1;33m=\u001b[0m \u001b[0mtf_session\u001b[0m\u001b[1;33m.\u001b[0m\u001b[0mTF_GetBuffer\u001b[0m\u001b[1;33m(\u001b[0m\u001b[0mrun_metadata_ptr\u001b[0m\u001b[1;33m)\u001b[0m\u001b[1;33m\u001b[0m\u001b[1;33m\u001b[0m\u001b[0m\n",
      "\u001b[1;31mInvalidArgumentError\u001b[0m: Input to reshape is a tensor with 129600 values, but the requested shape has 20736000\n\t [[{{node reshape/Reshape}}]]"
     ]
    }
   ],
   "source": [
    "nb_epoch = 5\n",
    "batch_size = 10\n",
    "\n",
    "history = autoencoder.fit(train_data, train_label, batch_size=batch_size, nb_epoch=nb_epoch,\n",
    "                    verbose=1, class_weight=class_weighting )\n",
    "autoencoder.save_weights('model_weight_ep100.hdf5')"
   ]
  },
  {
   "cell_type": "code",
   "execution_count": null,
   "metadata": {},
   "outputs": [],
   "source": []
  }
 ],
 "metadata": {
  "kernelspec": {
   "display_name": "Python 3",
   "language": "python",
   "name": "python3"
  },
  "language_info": {
   "codemirror_mode": {
    "name": "ipython",
    "version": 3
   },
   "file_extension": ".py",
   "mimetype": "text/x-python",
   "name": "python",
   "nbconvert_exporter": "python",
   "pygments_lexer": "ipython3",
   "version": "3.7.3"
  }
 },
 "nbformat": 4,
 "nbformat_minor": 2
}
